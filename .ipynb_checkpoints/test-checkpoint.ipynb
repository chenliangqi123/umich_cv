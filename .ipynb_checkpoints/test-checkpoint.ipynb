{
 "cells": [
  {
   "cell_type": "code",
   "id": "initial_id",
   "metadata": {
    "collapsed": true,
    "ExecuteTime": {
     "end_time": "2024-05-28T10:52:15.148718Z",
     "start_time": "2024-05-28T10:52:15.141868Z"
    }
   },
   "source": "print(\"AA\")",
   "outputs": [
    {
     "name": "stdout",
     "output_type": "stream",
     "text": [
      "AA\n"
     ]
    }
   ],
   "execution_count": 1
  },
  {
   "metadata": {
    "ExecuteTime": {
     "end_time": "2024-05-28T10:54:06.575474Z",
     "start_time": "2024-05-28T10:54:05.309602Z"
    }
   },
   "cell_type": "code",
   "source": [
    "import matplotlib.pyplot as plt\n",
    " \n",
    "# 数据\n",
    "x = [1, 2, 3, 4, 5]\n",
    "y = [2, 4, 6, 8, 10]\n",
    " \n",
    "# 创建折线图\n",
    "plt.plot(x, y)\n",
    " \n",
    "# 显示图表"
   ],
   "id": "9c52532ca3a3f496",
   "outputs": [
    {
     "ename": "AttributeError",
     "evalue": "module 'matplotlib' has no attribute 'backends'",
     "output_type": "error",
     "traceback": [
      "\u001B[0;31m---------------------------------------------------------------------------\u001B[0m",
      "\u001B[0;31mAttributeError\u001B[0m                            Traceback (most recent call last)",
      "Cell \u001B[0;32mIn[3], line 8\u001B[0m\n\u001B[1;32m      5\u001B[0m y \u001B[38;5;241m=\u001B[39m [\u001B[38;5;241m2\u001B[39m, \u001B[38;5;241m4\u001B[39m, \u001B[38;5;241m6\u001B[39m, \u001B[38;5;241m8\u001B[39m, \u001B[38;5;241m10\u001B[39m]\n\u001B[1;32m      7\u001B[0m \u001B[38;5;66;03m# 创建折线图\u001B[39;00m\n\u001B[0;32m----> 8\u001B[0m \u001B[43mplt\u001B[49m\u001B[38;5;241;43m.\u001B[39;49m\u001B[43mplot\u001B[49m\u001B[43m(\u001B[49m\u001B[43mx\u001B[49m\u001B[43m,\u001B[49m\u001B[43m \u001B[49m\u001B[43my\u001B[49m\u001B[43m)\u001B[49m\n\u001B[1;32m     10\u001B[0m \u001B[38;5;66;03m# 显示图表\u001B[39;00m\n",
      "File \u001B[0;32m~/Library/Python/3.9/lib/python/site-packages/matplotlib/pyplot.py:3708\u001B[0m, in \u001B[0;36mplot\u001B[0;34m(scalex, scaley, data, *args, **kwargs)\u001B[0m\n\u001B[1;32m   3700\u001B[0m \u001B[38;5;129m@_copy_docstring_and_deprecators\u001B[39m(Axes\u001B[38;5;241m.\u001B[39mplot)\n\u001B[1;32m   3701\u001B[0m \u001B[38;5;28;01mdef\u001B[39;00m \u001B[38;5;21mplot\u001B[39m(\n\u001B[1;32m   3702\u001B[0m     \u001B[38;5;241m*\u001B[39margs: \u001B[38;5;28mfloat\u001B[39m \u001B[38;5;241m|\u001B[39m ArrayLike \u001B[38;5;241m|\u001B[39m \u001B[38;5;28mstr\u001B[39m,\n\u001B[0;32m   (...)\u001B[0m\n\u001B[1;32m   3706\u001B[0m     \u001B[38;5;241m*\u001B[39m\u001B[38;5;241m*\u001B[39mkwargs,\n\u001B[1;32m   3707\u001B[0m ) \u001B[38;5;241m-\u001B[39m\u001B[38;5;241m>\u001B[39m \u001B[38;5;28mlist\u001B[39m[Line2D]:\n\u001B[0;32m-> 3708\u001B[0m     \u001B[38;5;28;01mreturn\u001B[39;00m \u001B[43mgca\u001B[49m\u001B[43m(\u001B[49m\u001B[43m)\u001B[49m\u001B[38;5;241m.\u001B[39mplot(\n\u001B[1;32m   3709\u001B[0m         \u001B[38;5;241m*\u001B[39margs,\n\u001B[1;32m   3710\u001B[0m         scalex\u001B[38;5;241m=\u001B[39mscalex,\n\u001B[1;32m   3711\u001B[0m         scaley\u001B[38;5;241m=\u001B[39mscaley,\n\u001B[1;32m   3712\u001B[0m         \u001B[38;5;241m*\u001B[39m\u001B[38;5;241m*\u001B[39m({\u001B[38;5;124m\"\u001B[39m\u001B[38;5;124mdata\u001B[39m\u001B[38;5;124m\"\u001B[39m: data} \u001B[38;5;28;01mif\u001B[39;00m data \u001B[38;5;129;01mis\u001B[39;00m \u001B[38;5;129;01mnot\u001B[39;00m \u001B[38;5;28;01mNone\u001B[39;00m \u001B[38;5;28;01melse\u001B[39;00m {}),\n\u001B[1;32m   3713\u001B[0m         \u001B[38;5;241m*\u001B[39m\u001B[38;5;241m*\u001B[39mkwargs,\n\u001B[1;32m   3714\u001B[0m     )\n",
      "File \u001B[0;32m~/Library/Python/3.9/lib/python/site-packages/matplotlib/pyplot.py:2656\u001B[0m, in \u001B[0;36mgca\u001B[0;34m()\u001B[0m\n\u001B[1;32m   2654\u001B[0m \u001B[38;5;129m@_copy_docstring_and_deprecators\u001B[39m(Figure\u001B[38;5;241m.\u001B[39mgca)\n\u001B[1;32m   2655\u001B[0m \u001B[38;5;28;01mdef\u001B[39;00m \u001B[38;5;21mgca\u001B[39m() \u001B[38;5;241m-\u001B[39m\u001B[38;5;241m>\u001B[39m Axes:\n\u001B[0;32m-> 2656\u001B[0m     \u001B[38;5;28;01mreturn\u001B[39;00m \u001B[43mgcf\u001B[49m\u001B[43m(\u001B[49m\u001B[43m)\u001B[49m\u001B[38;5;241m.\u001B[39mgca()\n",
      "File \u001B[0;32m~/Library/Python/3.9/lib/python/site-packages/matplotlib/pyplot.py:1088\u001B[0m, in \u001B[0;36mgcf\u001B[0;34m()\u001B[0m\n\u001B[1;32m   1086\u001B[0m     \u001B[38;5;28;01mreturn\u001B[39;00m manager\u001B[38;5;241m.\u001B[39mcanvas\u001B[38;5;241m.\u001B[39mfigure\n\u001B[1;32m   1087\u001B[0m \u001B[38;5;28;01melse\u001B[39;00m:\n\u001B[0;32m-> 1088\u001B[0m     \u001B[38;5;28;01mreturn\u001B[39;00m \u001B[43mfigure\u001B[49m\u001B[43m(\u001B[49m\u001B[43m)\u001B[49m\n",
      "File \u001B[0;32m~/Library/Python/3.9/lib/python/site-packages/matplotlib/pyplot.py:1022\u001B[0m, in \u001B[0;36mfigure\u001B[0;34m(num, figsize, dpi, facecolor, edgecolor, frameon, FigureClass, clear, **kwargs)\u001B[0m\n\u001B[1;32m   1012\u001B[0m \u001B[38;5;28;01mif\u001B[39;00m \u001B[38;5;28mlen\u001B[39m(allnums) \u001B[38;5;241m==\u001B[39m max_open_warning \u001B[38;5;241m>\u001B[39m\u001B[38;5;241m=\u001B[39m \u001B[38;5;241m1\u001B[39m:\n\u001B[1;32m   1013\u001B[0m     _api\u001B[38;5;241m.\u001B[39mwarn_external(\n\u001B[1;32m   1014\u001B[0m         \u001B[38;5;124mf\u001B[39m\u001B[38;5;124m\"\u001B[39m\u001B[38;5;124mMore than \u001B[39m\u001B[38;5;132;01m{\u001B[39;00mmax_open_warning\u001B[38;5;132;01m}\u001B[39;00m\u001B[38;5;124m figures have been opened. \u001B[39m\u001B[38;5;124m\"\u001B[39m\n\u001B[1;32m   1015\u001B[0m         \u001B[38;5;124mf\u001B[39m\u001B[38;5;124m\"\u001B[39m\u001B[38;5;124mFigures created through the pyplot interface \u001B[39m\u001B[38;5;124m\"\u001B[39m\n\u001B[0;32m   (...)\u001B[0m\n\u001B[1;32m   1019\u001B[0m         \u001B[38;5;124mf\u001B[39m\u001B[38;5;124m\"\u001B[39m\u001B[38;5;124mConsider using `matplotlib.pyplot.close()`.\u001B[39m\u001B[38;5;124m\"\u001B[39m,\n\u001B[1;32m   1020\u001B[0m         \u001B[38;5;167;01mRuntimeWarning\u001B[39;00m)\n\u001B[0;32m-> 1022\u001B[0m manager \u001B[38;5;241m=\u001B[39m \u001B[43mnew_figure_manager\u001B[49m\u001B[43m(\u001B[49m\n\u001B[1;32m   1023\u001B[0m \u001B[43m    \u001B[49m\u001B[43mnum\u001B[49m\u001B[43m,\u001B[49m\u001B[43m \u001B[49m\u001B[43mfigsize\u001B[49m\u001B[38;5;241;43m=\u001B[39;49m\u001B[43mfigsize\u001B[49m\u001B[43m,\u001B[49m\u001B[43m \u001B[49m\u001B[43mdpi\u001B[49m\u001B[38;5;241;43m=\u001B[39;49m\u001B[43mdpi\u001B[49m\u001B[43m,\u001B[49m\n\u001B[1;32m   1024\u001B[0m \u001B[43m    \u001B[49m\u001B[43mfacecolor\u001B[49m\u001B[38;5;241;43m=\u001B[39;49m\u001B[43mfacecolor\u001B[49m\u001B[43m,\u001B[49m\u001B[43m \u001B[49m\u001B[43medgecolor\u001B[49m\u001B[38;5;241;43m=\u001B[39;49m\u001B[43medgecolor\u001B[49m\u001B[43m,\u001B[49m\u001B[43m \u001B[49m\u001B[43mframeon\u001B[49m\u001B[38;5;241;43m=\u001B[39;49m\u001B[43mframeon\u001B[49m\u001B[43m,\u001B[49m\n\u001B[1;32m   1025\u001B[0m \u001B[43m    \u001B[49m\u001B[43mFigureClass\u001B[49m\u001B[38;5;241;43m=\u001B[39;49m\u001B[43mFigureClass\u001B[49m\u001B[43m,\u001B[49m\u001B[43m \u001B[49m\u001B[38;5;241;43m*\u001B[39;49m\u001B[38;5;241;43m*\u001B[39;49m\u001B[43mkwargs\u001B[49m\u001B[43m)\u001B[49m\n\u001B[1;32m   1026\u001B[0m fig \u001B[38;5;241m=\u001B[39m manager\u001B[38;5;241m.\u001B[39mcanvas\u001B[38;5;241m.\u001B[39mfigure\n\u001B[1;32m   1027\u001B[0m \u001B[38;5;28;01mif\u001B[39;00m fig_label:\n",
      "File \u001B[0;32m~/Library/Python/3.9/lib/python/site-packages/matplotlib/pyplot.py:544\u001B[0m, in \u001B[0;36mnew_figure_manager\u001B[0;34m(*args, **kwargs)\u001B[0m\n\u001B[1;32m    542\u001B[0m \u001B[38;5;28;01mdef\u001B[39;00m \u001B[38;5;21mnew_figure_manager\u001B[39m(\u001B[38;5;241m*\u001B[39margs, \u001B[38;5;241m*\u001B[39m\u001B[38;5;241m*\u001B[39mkwargs):\n\u001B[1;32m    543\u001B[0m \u001B[38;5;250m    \u001B[39m\u001B[38;5;124;03m\"\"\"Create a new figure manager instance.\"\"\"\u001B[39;00m\n\u001B[0;32m--> 544\u001B[0m     \u001B[43m_warn_if_gui_out_of_main_thread\u001B[49m\u001B[43m(\u001B[49m\u001B[43m)\u001B[49m\n\u001B[1;32m    545\u001B[0m     \u001B[38;5;28;01mreturn\u001B[39;00m _get_backend_mod()\u001B[38;5;241m.\u001B[39mnew_figure_manager(\u001B[38;5;241m*\u001B[39margs, \u001B[38;5;241m*\u001B[39m\u001B[38;5;241m*\u001B[39mkwargs)\n",
      "File \u001B[0;32m~/Library/Python/3.9/lib/python/site-packages/matplotlib/pyplot.py:521\u001B[0m, in \u001B[0;36m_warn_if_gui_out_of_main_thread\u001B[0;34m()\u001B[0m\n\u001B[1;32m    519\u001B[0m \u001B[38;5;28;01mdef\u001B[39;00m \u001B[38;5;21m_warn_if_gui_out_of_main_thread\u001B[39m() \u001B[38;5;241m-\u001B[39m\u001B[38;5;241m>\u001B[39m \u001B[38;5;28;01mNone\u001B[39;00m:\n\u001B[1;32m    520\u001B[0m     warn \u001B[38;5;241m=\u001B[39m \u001B[38;5;28;01mFalse\u001B[39;00m\n\u001B[0;32m--> 521\u001B[0m     canvas_class \u001B[38;5;241m=\u001B[39m cast(\u001B[38;5;28mtype\u001B[39m[FigureCanvasBase], \u001B[43m_get_backend_mod\u001B[49m\u001B[43m(\u001B[49m\u001B[43m)\u001B[49m\u001B[38;5;241m.\u001B[39mFigureCanvas)\n\u001B[1;32m    522\u001B[0m     \u001B[38;5;28;01mif\u001B[39;00m canvas_class\u001B[38;5;241m.\u001B[39mrequired_interactive_framework:\n\u001B[1;32m    523\u001B[0m         \u001B[38;5;28;01mif\u001B[39;00m \u001B[38;5;28mhasattr\u001B[39m(threading, \u001B[38;5;124m'\u001B[39m\u001B[38;5;124mget_native_id\u001B[39m\u001B[38;5;124m'\u001B[39m):\n\u001B[1;32m    524\u001B[0m             \u001B[38;5;66;03m# This compares native thread ids because even if Python-level\u001B[39;00m\n\u001B[1;32m    525\u001B[0m             \u001B[38;5;66;03m# Thread objects match, the underlying OS thread (which is what\u001B[39;00m\n\u001B[1;32m    526\u001B[0m             \u001B[38;5;66;03m# really matters) may be different on Python implementations with\u001B[39;00m\n\u001B[1;32m    527\u001B[0m             \u001B[38;5;66;03m# green threads.\u001B[39;00m\n",
      "File \u001B[0;32m~/Library/Python/3.9/lib/python/site-packages/matplotlib/pyplot.py:353\u001B[0m, in \u001B[0;36m_get_backend_mod\u001B[0;34m()\u001B[0m\n\u001B[1;32m    344\u001B[0m \u001B[38;5;250m\u001B[39m\u001B[38;5;124;03m\"\"\"\u001B[39;00m\n\u001B[1;32m    345\u001B[0m \u001B[38;5;124;03mEnsure that a backend is selected and return it.\u001B[39;00m\n\u001B[1;32m    346\u001B[0m \n\u001B[1;32m    347\u001B[0m \u001B[38;5;124;03mThis is currently private, but may be made public in the future.\u001B[39;00m\n\u001B[1;32m    348\u001B[0m \u001B[38;5;124;03m\"\"\"\u001B[39;00m\n\u001B[1;32m    349\u001B[0m \u001B[38;5;28;01mif\u001B[39;00m _backend_mod \u001B[38;5;129;01mis\u001B[39;00m \u001B[38;5;28;01mNone\u001B[39;00m:\n\u001B[1;32m    350\u001B[0m     \u001B[38;5;66;03m# Use rcParams._get(\"backend\") to avoid going through the fallback\u001B[39;00m\n\u001B[1;32m    351\u001B[0m     \u001B[38;5;66;03m# logic (which will (re)import pyplot and then call switch_backend if\u001B[39;00m\n\u001B[1;32m    352\u001B[0m     \u001B[38;5;66;03m# we need to resolve the auto sentinel)\u001B[39;00m\n\u001B[0;32m--> 353\u001B[0m     \u001B[43mswitch_backend\u001B[49m\u001B[43m(\u001B[49m\u001B[43mrcParams\u001B[49m\u001B[38;5;241;43m.\u001B[39;49m\u001B[43m_get\u001B[49m\u001B[43m(\u001B[49m\u001B[38;5;124;43m\"\u001B[39;49m\u001B[38;5;124;43mbackend\u001B[39;49m\u001B[38;5;124;43m\"\u001B[39;49m\u001B[43m)\u001B[49m\u001B[43m)\u001B[49m\n\u001B[1;32m    354\u001B[0m \u001B[38;5;28;01mreturn\u001B[39;00m cast(\u001B[38;5;28mtype\u001B[39m[matplotlib\u001B[38;5;241m.\u001B[39mbackend_bases\u001B[38;5;241m.\u001B[39m_Backend], _backend_mod)\n",
      "File \u001B[0;32m~/Library/Python/3.9/lib/python/site-packages/matplotlib/pyplot.py:505\u001B[0m, in \u001B[0;36mswitch_backend\u001B[0;34m(newbackend)\u001B[0m\n\u001B[1;32m    500\u001B[0m     \u001B[38;5;28mglobals\u001B[39m()[func_name]\u001B[38;5;241m.\u001B[39m__signature__ \u001B[38;5;241m=\u001B[39m inspect\u001B[38;5;241m.\u001B[39msignature(\n\u001B[1;32m    501\u001B[0m         \u001B[38;5;28mgetattr\u001B[39m(backend_mod, func_name))\n\u001B[1;32m    503\u001B[0m \u001B[38;5;66;03m# Need to keep a global reference to the backend for compatibility reasons.\u001B[39;00m\n\u001B[1;32m    504\u001B[0m \u001B[38;5;66;03m# See https://github.com/matplotlib/matplotlib/issues/6092\u001B[39;00m\n\u001B[0;32m--> 505\u001B[0m \u001B[43mmatplotlib\u001B[49m\u001B[38;5;241;43m.\u001B[39;49m\u001B[43mbackends\u001B[49m\u001B[38;5;241m.\u001B[39mbackend \u001B[38;5;241m=\u001B[39m newbackend  \u001B[38;5;66;03m# type: ignore[attr-defined]\u001B[39;00m\n\u001B[1;32m    507\u001B[0m \u001B[38;5;28;01mif\u001B[39;00m \u001B[38;5;129;01mnot\u001B[39;00m cbook\u001B[38;5;241m.\u001B[39m_str_equal(old_backend, newbackend):\n\u001B[1;32m    508\u001B[0m     \u001B[38;5;28;01mif\u001B[39;00m get_fignums():\n",
      "File \u001B[0;32m~/Library/Python/3.9/lib/python/site-packages/matplotlib/_api/__init__.py:217\u001B[0m, in \u001B[0;36mcaching_module_getattr.<locals>.__getattr__\u001B[0;34m(name)\u001B[0m\n\u001B[1;32m    215\u001B[0m \u001B[38;5;28;01mif\u001B[39;00m name \u001B[38;5;129;01min\u001B[39;00m props:\n\u001B[1;32m    216\u001B[0m     \u001B[38;5;28;01mreturn\u001B[39;00m props[name]\u001B[38;5;241m.\u001B[39m\u001B[38;5;21m__get__\u001B[39m(instance)\n\u001B[0;32m--> 217\u001B[0m \u001B[38;5;28;01mraise\u001B[39;00m \u001B[38;5;167;01mAttributeError\u001B[39;00m(\n\u001B[1;32m    218\u001B[0m     \u001B[38;5;124mf\u001B[39m\u001B[38;5;124m\"\u001B[39m\u001B[38;5;124mmodule \u001B[39m\u001B[38;5;132;01m{\u001B[39;00m\u001B[38;5;28mcls\u001B[39m\u001B[38;5;241m.\u001B[39m\u001B[38;5;18m__module__\u001B[39m\u001B[38;5;132;01m!r}\u001B[39;00m\u001B[38;5;124m has no attribute \u001B[39m\u001B[38;5;132;01m{\u001B[39;00mname\u001B[38;5;132;01m!r}\u001B[39;00m\u001B[38;5;124m\"\u001B[39m)\n",
      "\u001B[0;31mAttributeError\u001B[0m: module 'matplotlib' has no attribute 'backends'"
     ]
    },
    {
     "name": "stdout",
     "output_type": "stream",
     "text": [
      "Error in callback <function _enable_matplotlib_integration.<locals>.configure_once at 0x7ff2c8888430> (for post_run_cell), with arguments args (<ExecutionResult object at 7ff29a324d60, execution_count=3 error_before_exec=None error_in_exec=module 'matplotlib' has no attribute 'backends' info=<ExecutionInfo object at 7ff29a324f70, raw_cell=\"import matplotlib.pyplot as plt\n",
      " \n",
      "# 数据\n",
      "x = [1, 2, ..\" store_history=True silent=False shell_futures=True cell_id=None> result=None>,),kwargs {}:\n"
     ]
    },
    {
     "ename": "AttributeError",
     "evalue": "module 'matplotlib' has no attribute 'backends'",
     "output_type": "error",
     "traceback": [
      "\u001B[0;31m---------------------------------------------------------------------------\u001B[0m",
      "\u001B[0;31mAttributeError\u001B[0m                            Traceback (most recent call last)",
      "File \u001B[0;32m~/Library/Python/3.9/lib/python/site-packages/matplotlib_inline/backend_inline.py:222\u001B[0m, in \u001B[0;36m_enable_matplotlib_integration.<locals>.configure_once\u001B[0;34m(*args)\u001B[0m\n\u001B[1;32m    221\u001B[0m \u001B[38;5;28;01mdef\u001B[39;00m \u001B[38;5;21mconfigure_once\u001B[39m(\u001B[38;5;241m*\u001B[39margs):\n\u001B[0;32m--> 222\u001B[0m     \u001B[43mactivate_matplotlib\u001B[49m\u001B[43m(\u001B[49m\u001B[43mbackend\u001B[49m\u001B[43m)\u001B[49m\n\u001B[1;32m    223\u001B[0m     configure_inline_support(ip, backend)\n\u001B[1;32m    224\u001B[0m     ip\u001B[38;5;241m.\u001B[39mevents\u001B[38;5;241m.\u001B[39munregister(\u001B[38;5;124m'\u001B[39m\u001B[38;5;124mpost_run_cell\u001B[39m\u001B[38;5;124m'\u001B[39m, configure_once)\n",
      "File \u001B[0;32m~/Library/Python/3.9/lib/python/site-packages/IPython/core/pylabtools.py:368\u001B[0m, in \u001B[0;36mactivate_matplotlib\u001B[0;34m(backend)\u001B[0m\n\u001B[1;32m    363\u001B[0m \u001B[38;5;66;03m# Due to circular imports, pyplot may be only partially initialised\u001B[39;00m\n\u001B[1;32m    364\u001B[0m \u001B[38;5;66;03m# when this function runs.\u001B[39;00m\n\u001B[1;32m    365\u001B[0m \u001B[38;5;66;03m# So avoid needing matplotlib attribute-lookup to access pyplot.\u001B[39;00m\n\u001B[1;32m    366\u001B[0m \u001B[38;5;28;01mfrom\u001B[39;00m \u001B[38;5;21;01mmatplotlib\u001B[39;00m \u001B[38;5;28;01mimport\u001B[39;00m pyplot \u001B[38;5;28;01mas\u001B[39;00m plt\n\u001B[0;32m--> 368\u001B[0m \u001B[43mplt\u001B[49m\u001B[38;5;241;43m.\u001B[39;49m\u001B[43mswitch_backend\u001B[49m\u001B[43m(\u001B[49m\u001B[43mbackend\u001B[49m\u001B[43m)\u001B[49m\n\u001B[1;32m    370\u001B[0m plt\u001B[38;5;241m.\u001B[39mshow\u001B[38;5;241m.\u001B[39m_needmain \u001B[38;5;241m=\u001B[39m \u001B[38;5;28;01mFalse\u001B[39;00m\n\u001B[1;32m    371\u001B[0m \u001B[38;5;66;03m# We need to detect at runtime whether show() is called by the user.\u001B[39;00m\n\u001B[1;32m    372\u001B[0m \u001B[38;5;66;03m# For this, we wrap it into a decorator which adds a 'called' flag.\u001B[39;00m\n",
      "File \u001B[0;32m~/Library/Python/3.9/lib/python/site-packages/matplotlib/pyplot.py:505\u001B[0m, in \u001B[0;36mswitch_backend\u001B[0;34m(newbackend)\u001B[0m\n\u001B[1;32m    500\u001B[0m     \u001B[38;5;28mglobals\u001B[39m()[func_name]\u001B[38;5;241m.\u001B[39m__signature__ \u001B[38;5;241m=\u001B[39m inspect\u001B[38;5;241m.\u001B[39msignature(\n\u001B[1;32m    501\u001B[0m         \u001B[38;5;28mgetattr\u001B[39m(backend_mod, func_name))\n\u001B[1;32m    503\u001B[0m \u001B[38;5;66;03m# Need to keep a global reference to the backend for compatibility reasons.\u001B[39;00m\n\u001B[1;32m    504\u001B[0m \u001B[38;5;66;03m# See https://github.com/matplotlib/matplotlib/issues/6092\u001B[39;00m\n\u001B[0;32m--> 505\u001B[0m \u001B[43mmatplotlib\u001B[49m\u001B[38;5;241;43m.\u001B[39;49m\u001B[43mbackends\u001B[49m\u001B[38;5;241m.\u001B[39mbackend \u001B[38;5;241m=\u001B[39m newbackend  \u001B[38;5;66;03m# type: ignore[attr-defined]\u001B[39;00m\n\u001B[1;32m    507\u001B[0m \u001B[38;5;28;01mif\u001B[39;00m \u001B[38;5;129;01mnot\u001B[39;00m cbook\u001B[38;5;241m.\u001B[39m_str_equal(old_backend, newbackend):\n\u001B[1;32m    508\u001B[0m     \u001B[38;5;28;01mif\u001B[39;00m get_fignums():\n",
      "File \u001B[0;32m~/Library/Python/3.9/lib/python/site-packages/matplotlib/_api/__init__.py:217\u001B[0m, in \u001B[0;36mcaching_module_getattr.<locals>.__getattr__\u001B[0;34m(name)\u001B[0m\n\u001B[1;32m    215\u001B[0m \u001B[38;5;28;01mif\u001B[39;00m name \u001B[38;5;129;01min\u001B[39;00m props:\n\u001B[1;32m    216\u001B[0m     \u001B[38;5;28;01mreturn\u001B[39;00m props[name]\u001B[38;5;241m.\u001B[39m\u001B[38;5;21m__get__\u001B[39m(instance)\n\u001B[0;32m--> 217\u001B[0m \u001B[38;5;28;01mraise\u001B[39;00m \u001B[38;5;167;01mAttributeError\u001B[39;00m(\n\u001B[1;32m    218\u001B[0m     \u001B[38;5;124mf\u001B[39m\u001B[38;5;124m\"\u001B[39m\u001B[38;5;124mmodule \u001B[39m\u001B[38;5;132;01m{\u001B[39;00m\u001B[38;5;28mcls\u001B[39m\u001B[38;5;241m.\u001B[39m\u001B[38;5;18m__module__\u001B[39m\u001B[38;5;132;01m!r}\u001B[39;00m\u001B[38;5;124m has no attribute \u001B[39m\u001B[38;5;132;01m{\u001B[39;00mname\u001B[38;5;132;01m!r}\u001B[39;00m\u001B[38;5;124m\"\u001B[39m)\n",
      "\u001B[0;31mAttributeError\u001B[0m: module 'matplotlib' has no attribute 'backends'"
     ]
    }
   ],
   "execution_count": 3
  },
  {
   "metadata": {},
   "cell_type": "code",
   "outputs": [],
   "execution_count": null,
   "source": "",
   "id": "6988b2a54726e2e2"
  }
 ],
 "metadata": {
  "kernelspec": {
   "display_name": "Python 3",
   "language": "python",
   "name": "python3"
  },
  "language_info": {
   "codemirror_mode": {
    "name": "ipython",
    "version": 2
   },
   "file_extension": ".py",
   "mimetype": "text/x-python",
   "name": "python",
   "nbconvert_exporter": "python",
   "pygments_lexer": "ipython2",
   "version": "2.7.6"
  }
 },
 "nbformat": 4,
 "nbformat_minor": 5
}
